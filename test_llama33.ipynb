{
 "cells": [
  {
   "cell_type": "code",
   "execution_count": 1,
   "metadata": {},
   "outputs": [
    {
     "name": "stdout",
     "output_type": "stream",
     "text": [
      "testing\n"
     ]
    }
   ],
   "source": [
    "print('testing')"
   ]
  },
  {
   "cell_type": "code",
   "execution_count": 1,
   "metadata": {},
   "outputs": [
    {
     "name": "stdout",
     "output_type": "stream",
     "text": [
      "name='Canada' capital='Ottawa' languages=['English', 'French']\n"
     ]
    }
   ],
   "source": [
    "from ollama import chat\n",
    "from pydantic import BaseModel\n",
    "\n",
    "class Country(BaseModel):\n",
    "  name: str\n",
    "  capital: str\n",
    "  languages: list[str]\n",
    "\n",
    "response = chat(\n",
    "  messages=[\n",
    "    {\n",
    "      'role': 'user',\n",
    "      'content': 'Tell me about Canada.',\n",
    "    }\n",
    "  ],\n",
    "  model='llama3.3',\n",
    "  format=Country.model_json_schema(),\n",
    ")\n",
    "\n",
    "country = Country.model_validate_json(response.message.content)\n",
    "print(country)"
   ]
  },
  {
   "cell_type": "code",
   "execution_count": 2,
   "metadata": {},
   "outputs": [
    {
     "name": "stdout",
     "output_type": "stream",
     "text": [
      "pets=[Pet(name='Luna', animal='cat', age=5, color='grey', favorite_toy='yarn'), Pet(name='Loki', animal='cat', age=2, color='black', favorite_toy='tennis balls')]\n"
     ]
    }
   ],
   "source": [
    "from ollama import chat\n",
    "from pydantic import BaseModel\n",
    "\n",
    "class Pet(BaseModel):\n",
    "  name: str\n",
    "  animal: str\n",
    "  age: int\n",
    "  color: str | None\n",
    "  favorite_toy: str | None\n",
    "\n",
    "class PetList(BaseModel):\n",
    "  pets: list[Pet]\n",
    "\n",
    "response = chat(\n",
    "  messages=[\n",
    "    {\n",
    "      'role': 'user',\n",
    "      'content': '''\n",
    "        I have two pets.\n",
    "        A cat named Luna who is 5 years old and loves playing with yarn. She has grey fur.\n",
    "        I also have a 2 year old black cat named Loki who loves tennis balls.\n",
    "      ''',\n",
    "    }\n",
    "  ],\n",
    "  model='llama3.3',\n",
    "  format=PetList.model_json_schema(),\n",
    ")\n",
    "\n",
    "pets = PetList.model_validate_json(response.message.content)\n",
    "print(pets)"
   ]
  },
  {
   "cell_type": "code",
   "execution_count": null,
   "metadata": {},
   "outputs": [],
   "source": []
  }
 ],
 "metadata": {
  "kernelspec": {
   "display_name": "cancer-registry",
   "language": "python",
   "name": "python3"
  },
  "language_info": {
   "codemirror_mode": {
    "name": "ipython",
    "version": 3
   },
   "file_extension": ".py",
   "mimetype": "text/x-python",
   "name": "python",
   "nbconvert_exporter": "python",
   "pygments_lexer": "ipython3",
   "version": "3.10.15"
  }
 },
 "nbformat": 4,
 "nbformat_minor": 2
}
