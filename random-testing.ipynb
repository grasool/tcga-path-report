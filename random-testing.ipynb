{
 "cells": [
  {
   "cell_type": "code",
   "execution_count": 1,
   "metadata": {},
   "outputs": [],
   "source": [
    "# count the number of pdf files in a folder and its subfodlers and give numbers for each folder and subfodlers\n",
    "folder_path = r'D:\\Data\\Public Datasets\\TCGA Pathology Reports'"
   ]
  },
  {
   "cell_type": "code",
   "execution_count": 2,
   "metadata": {},
   "outputs": [
    {
     "name": "stdout",
     "output_type": "stream",
     "text": [
      "In the folder D:\\Data\\Public Datasets\\TCGA Pathology Reports, there are 0 PDF files.\n",
      "In the folder D:\\Data\\Public Datasets\\TCGA Pathology Reports\\BLADDER, there are 0 PDF files.\n",
      "In the folder D:\\Data\\Public Datasets\\TCGA Pathology Reports\\BLADDER\\pdfs, there are 413 PDF files.\n",
      "In the folder D:\\Data\\Public Datasets\\TCGA Pathology Reports\\BRAIN, there are 0 PDF files.\n",
      "In the folder D:\\Data\\Public Datasets\\TCGA Pathology Reports\\BRAIN\\pdfs, there are 923 PDF files.\n",
      "In the folder D:\\Data\\Public Datasets\\TCGA Pathology Reports\\CERVIX, there are 0 PDF files.\n",
      "In the folder D:\\Data\\Public Datasets\\TCGA Pathology Reports\\CERVIX\\pdfs, there are 309 PDF files.\n",
      "In the folder D:\\Data\\Public Datasets\\TCGA Pathology Reports\\CRC, there are 0 PDF files.\n",
      "In the folder D:\\Data\\Public Datasets\\TCGA Pathology Reports\\CRC\\pdfs, there are 627 PDF files.\n",
      "In the folder D:\\Data\\Public Datasets\\TCGA Pathology Reports\\HEADnNECK, there are 0 PDF files.\n",
      "In the folder D:\\Data\\Public Datasets\\TCGA Pathology Reports\\HEADnNECK\\pdfs, there are 529 PDF files.\n",
      "In the folder D:\\Data\\Public Datasets\\TCGA Pathology Reports\\KIDNEY, there are 0 PDF files.\n",
      "In the folder D:\\Data\\Public Datasets\\TCGA Pathology Reports\\KIDNEY\\pdfs, there are 948 PDF files.\n",
      "In the folder D:\\Data\\Public Datasets\\TCGA Pathology Reports\\LIVER, there are 0 PDF files.\n",
      "In the folder D:\\Data\\Public Datasets\\TCGA Pathology Reports\\LIVER\\pdfs, there are 421 PDF files.\n",
      "In the folder D:\\Data\\Public Datasets\\TCGA Pathology Reports\\LUNG, there are 0 PDF files.\n",
      "In the folder D:\\Data\\Public Datasets\\TCGA Pathology Reports\\LUNG\\pdfs, there are 1058 PDF files.\n",
      "In the folder D:\\Data\\Public Datasets\\TCGA Pathology Reports\\OVARIAN, there are 0 PDF files.\n",
      "In the folder D:\\Data\\Public Datasets\\TCGA Pathology Reports\\OVARIAN\\pdfs, there are 388 PDF files.\n",
      "In the folder D:\\Data\\Public Datasets\\TCGA Pathology Reports\\PANCREAS, there are 0 PDF files.\n",
      "In the folder D:\\Data\\Public Datasets\\TCGA Pathology Reports\\PANCREAS\\pdfs, there are 186 PDF files.\n",
      "In the folder D:\\Data\\Public Datasets\\TCGA Pathology Reports\\PROSTATE, there are 0 PDF files.\n",
      "In the folder D:\\Data\\Public Datasets\\TCGA Pathology Reports\\PROSTATE\\pdfs, there are 501 PDF files.\n",
      "In the folder D:\\Data\\Public Datasets\\TCGA Pathology Reports\\UTEROUS, there are 0 PDF files.\n",
      "In the folder D:\\Data\\Public Datasets\\TCGA Pathology Reports\\UTEROUS\\pdfs, there are 641 PDF files.\n",
      "Total PDF files in all folders and subfolders: 6944\n"
     ]
    }
   ],
   "source": [
    "import os\n",
    "\n",
    "def count_pdfs_in_folder(folder_path):\n",
    "    total_pdf_count = 0\n",
    "    for root, dirs, files in os.walk(folder_path):\n",
    "        pdf_files = [f for f in files if f.lower().endswith('pdf')]\n",
    "        pdf_count = len(pdf_files)\n",
    "        total_pdf_count += pdf_count\n",
    "        print(f\"In the folder {root}, there are {pdf_count} PDF files.\")\n",
    "    print(f\"Total PDF files in all folders and subfolders: {total_pdf_count}\")\n",
    "\n",
    "# Use the function\n",
    "count_pdfs_in_folder(folder_path)"
   ]
  },
  {
   "cell_type": "code",
   "execution_count": null,
   "metadata": {},
   "outputs": [],
   "source": []
  },
  {
   "cell_type": "code",
   "execution_count": null,
   "metadata": {},
   "outputs": [],
   "source": []
  }
 ],
 "metadata": {
  "kernelspec": {
   "display_name": "path-report-variables",
   "language": "python",
   "name": "python3"
  },
  "language_info": {
   "codemirror_mode": {
    "name": "ipython",
    "version": 3
   },
   "file_extension": ".py",
   "mimetype": "text/x-python",
   "name": "python",
   "nbconvert_exporter": "python",
   "pygments_lexer": "ipython3",
   "version": "3.11.8"
  }
 },
 "nbformat": 4,
 "nbformat_minor": 2
}
